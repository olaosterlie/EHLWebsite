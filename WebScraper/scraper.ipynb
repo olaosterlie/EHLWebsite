{
 "cells": [
  {
   "cell_type": "code",
   "execution_count": 45,
   "id": "309cb257-7b39-4ce0-adc0-9d14cc5ae3fb",
   "metadata": {},
   "outputs": [],
   "source": [
    "from selenium import webdriver\n",
    "from selenium.webdriver.common.by import By\n",
    "from selenium.webdriver.support.ui import WebDriverWait\n",
    "from selenium.webdriver.support import expected_conditions as EC\n",
    "from bs4 import BeautifulSoup\n",
    "import pandas as pd\n",
    "import time\n",
    "from io import StringIO"
   ]
  },
  {
   "cell_type": "code",
   "execution_count": 46,
   "id": "dadf6d07-2b8c-423c-a514-98b7685bca7a",
   "metadata": {},
   "outputs": [],
   "source": [
    "all_players = []"
   ]
  },
  {
   "cell_type": "code",
   "execution_count": 47,
   "id": "11816b2e-120e-421d-ade8-d2a648936e58",
   "metadata": {},
   "outputs": [],
   "source": [
    "driver = webdriver.Chrome()"
   ]
  },
  {
   "cell_type": "code",
   "execution_count": 48,
   "id": "406bde33-165a-4a4b-90b4-7dbae106fa4b",
   "metadata": {},
   "outputs": [],
   "source": [
    "urls = [\n",
    "    'https://www.eurohockey.com/stats/league/2026/137-elitehockey-ligaen.html?type=1&season=2026&list_number=100&order=7&dir=2&&list_number=0',\n",
    "    'https://www.eurohockey.com/stats/league/2026/137-elitehockey-ligaen.html?type=1&season=2026&list_number=100&order=7&dir=2&&list_number=100',\n",
    "    'https://www.eurohockey.com/stats/league/2026/137-elitehockey-ligaen.html?type=1&season=2026&list_number=100&order=7&dir=2&&list_number=200'\n",
    "]"
   ]
  },
  {
   "cell_type": "code",
   "execution_count": 49,
   "id": "4821b683-d026-48ff-a9f3-c0182fbbc865",
   "metadata": {},
   "outputs": [],
   "source": [
    "for url in urls:\n",
    "    driver.get(url)\n",
    "    wait = WebDriverWait(driver, 10)\n",
    "    wait.until(EC.presence_of_element_located((By.TAG_NAME, 'table')))\n",
    "\n",
    "    soup = BeautifulSoup(driver.page_source, 'html.parser')\n",
    "    stats_table = soup.find_all('table')[0]\n",
    "\n",
    "    rows = stats_table.find_all('tr')[1:]\n",
    "    player_nations = []\n",
    "\n",
    "    for row in rows:\n",
    "        player_cell = row.find('td', class_ = 'player')\n",
    "        if player_cell:\n",
    "            flag = player_cell.find('img', class_ = 'flag')\n",
    "            nation = flag['title'] if flag and 'title' in flag.attrs else ''\n",
    "            player_nations.append(nation)\n",
    "\n",
    "    player_nations.append('')\n",
    "\n",
    "    player_data = pd.read_html(StringIO(str(stats_table)))[0]\n",
    "\n",
    "    player_data['Nation'] = player_nations\n",
    "\n",
    "    all_players.append(player_data)"
   ]
  },
  {
   "cell_type": "code",
   "execution_count": 50,
   "id": "7b457f46-678c-4e56-89b9-9cde89832089",
   "metadata": {},
   "outputs": [],
   "source": [
    "driver.quit()"
   ]
  },
  {
   "cell_type": "code",
   "execution_count": 51,
   "id": "5b744dad-0be5-4fa2-b742-16660e5de3d4",
   "metadata": {},
   "outputs": [],
   "source": [
    "stats_df = pd.concat(all_players, ignore_index=True)"
   ]
  },
  {
   "cell_type": "code",
   "execution_count": 52,
   "id": "7fe11c30-8e9b-4ad7-ba2f-77d608b07292",
   "metadata": {},
   "outputs": [],
   "source": [
    "stats_df = stats_df[~stats_df.apply(lambda row: row.astype(str).str.contains('items', case=True, na=False).any(), axis=1)]"
   ]
  },
  {
   "cell_type": "code",
   "execution_count": 54,
   "id": "7b4ffcb1-a701-47ce-92fa-e1956eb3b64d",
   "metadata": {},
   "outputs": [],
   "source": [
    "stats_df = stats_df.drop(columns=stats_df.columns[0])\n",
    "columns_to_drop = stats_df.columns[8:19]\n",
    "stats_df = stats_df.drop(columns=columns_to_drop)"
   ]
  },
  {
   "cell_type": "code",
   "execution_count": 55,
   "id": "b1681444-2742-431d-afd4-6b4b2920beeb",
   "metadata": {},
   "outputs": [],
   "source": [
    "stats_df.to_csv('stats_w_nations.csv', index=False)"
   ]
  },
  {
   "cell_type": "code",
   "execution_count": null,
   "id": "19b60b6e-0899-4925-ae22-b6a22b27ea3a",
   "metadata": {},
   "outputs": [],
   "source": []
  }
 ],
 "metadata": {
  "kernelspec": {
   "display_name": "Python 3 (ipykernel)",
   "language": "python",
   "name": "python3"
  },
  "language_info": {
   "codemirror_mode": {
    "name": "ipython",
    "version": 3
   },
   "file_extension": ".py",
   "mimetype": "text/x-python",
   "name": "python",
   "nbconvert_exporter": "python",
   "pygments_lexer": "ipython3",
   "version": "3.12.4"
  }
 },
 "nbformat": 4,
 "nbformat_minor": 5
}
