{
 "cells": [
  {
   "cell_type": "code",
   "execution_count": 86,
   "id": "initial_id",
   "metadata": {},
   "outputs": [],
   "source": [
    "from selenium import webdriver\n",
    "from selenium.webdriver.common.by import By\n",
    "from selenium.webdriver.support.ui import WebDriverWait\n",
    "from selenium.webdriver.support import expected_conditions as EC\n",
    "from bs4 import BeautifulSoup\n",
    "import pandas as pd\n",
    "import time\n",
    "from io import StringIO"
   ]
  },
  {
   "cell_type": "code",
   "execution_count": 87,
   "id": "92bee08c-1766-47fd-b693-3775ea89b015",
   "metadata": {},
   "outputs": [],
   "source": [
    "all_players = []"
   ]
  },
  {
   "cell_type": "code",
   "execution_count": 88,
   "id": "f3d0a3b5-e191-4354-bb95-61e401533f39",
   "metadata": {},
   "outputs": [
    {
     "data": {
      "text/plain": [
       "<selenium.webdriver.remote.webelement.WebElement (session=\"cf3cbffa143b4f2d6769f03702ab03d4\", element=\"f.89F65F1D12CF16328642FE9A26A04A76.d.86EB3BE0630DE5F2C081FC86CD3BDBEF.e.351\")>"
      ]
     },
     "execution_count": 88,
     "metadata": {},
     "output_type": "execute_result"
    }
   ],
   "source": [
    "# setter opp webdriver fra Selenium for å hente ut html-data\n",
    "driver = webdriver.Chrome()\n",
    "driver.get('https://www.eurohockey.com/stats/league/2026/137-elitehockey-ligaen.html?type=1&season=2026&list_number=100&order=7&dir=2&&list_number=0')\n",
    "wait = WebDriverWait(driver, 10)\n",
    "wait.until(EC.presence_of_element_located((By.TAG_NAME, 'table')))"
   ]
  },
  {
   "cell_type": "code",
   "execution_count": 89,
   "id": "f9e6410f-b3b6-4694-981b-e0812b495683",
   "metadata": {},
   "outputs": [],
   "source": [
    "soup = BeautifulSoup(driver.page_source, 'html.parser') # Bruker BeautifulSoup for å se på html-data\n",
    "stats_table = soup.find_all('table')[0] # finner første tabell på siden"
   ]
  },
  {
   "cell_type": "code",
   "execution_count": 90,
   "id": "f51eacd2-dc64-4658-8c8e-73e57b4d46d3",
   "metadata": {},
   "outputs": [],
   "source": [
    "if stats_table and stats_table.columns: stats_table.columns = stats.columns.droplevel()"
   ]
  },
  {
   "cell_type": "code",
   "execution_count": 91,
   "id": "5a30a171-761c-42c9-820e-3dfeaa789637",
   "metadata": {},
   "outputs": [],
   "source": [
    "player_data = pd.read_html(StringIO(str(stats_table)))[0]"
   ]
  },
  {
   "cell_type": "code",
   "execution_count": 92,
   "id": "c0c23e3a-4b78-414c-8fa7-0fdc24f44e4d",
   "metadata": {},
   "outputs": [],
   "source": [
    "player_data\n",
    "all_players.append(player_data)"
   ]
  },
  {
   "cell_type": "code",
   "execution_count": 93,
   "id": "b3b1ffc5-a365-4283-a1fe-c15694a88ee0",
   "metadata": {},
   "outputs": [],
   "source": [
    "driver.get('https://www.eurohockey.com/stats/league/2026/137-elitehockey-ligaen.html?type=1&season=2026&list_number=100&order=7&dir=2&&list_number=100')\n",
    "wait = WebDriverWait(driver, 10)\n",
    "wait.until(EC.presence_of_element_located((By.TAG_NAME, 'table')))\n",
    "\n",
    "soup = BeautifulSoup(driver.page_source, 'html.parser') # Bruker BeautifulSoup for å se på html-data\n",
    "stats_table = soup.find_all('table')[0] # finner første tabell på siden\n",
    "\n",
    "if stats_table and stats_table.columns: stats_table.columns = stats.columns.droplevel()\n",
    "\n",
    "player_data = pd.read_html(StringIO(str(stats_table)))[0]\n",
    "\n",
    "all_players.append(player_data)"
   ]
  },
  {
   "cell_type": "code",
   "execution_count": 94,
   "id": "2f800e1b-bbbc-40c8-a755-61d456135d6d",
   "metadata": {},
   "outputs": [],
   "source": [
    "driver.get('https://www.eurohockey.com/stats/league/2026/137-elitehockey-ligaen.html?type=1&season=2026&list_number=100&order=7&dir=2&&list_number=200')\n",
    "wait = WebDriverWait(driver, 10)\n",
    "wait.until(EC.presence_of_element_located((By.TAG_NAME, 'table')))\n",
    "\n",
    "soup = BeautifulSoup(driver.page_source, 'html.parser') # Bruker BeautifulSoup for å se på html-data\n",
    "stats_table = soup.find_all('table')[0] # finner første tabell på siden\n",
    "\n",
    "if stats_table and stats_table.columns: stats_table.columns = stats.columns.droplevel()\n",
    "\n",
    "player_data = pd.read_html(StringIO(str(stats_table)))[0]\n",
    "\n",
    "all_players.append(player_data)"
   ]
  },
  {
   "cell_type": "code",
   "execution_count": null,
   "id": "b60aec4d-0154-462e-bfae-34de287b9763",
   "metadata": {},
   "outputs": [],
   "source": []
  },
  {
   "cell_type": "code",
   "execution_count": 105,
   "id": "bb7ac528-34c7-4cbc-b751-cd155a5ae3e8",
   "metadata": {},
   "outputs": [],
   "source": [
    "stats_df = pd.concat(all_players, ignore_index=True)\n",
    "stats_df = stats_df.iloc[:, :10]\n",
    "stats_df = stats_df.iloc[:, 1:]"
   ]
  },
  {
   "cell_type": "code",
   "execution_count": 106,
   "id": "c6c21c09-20c8-4c35-ac19-a2c0098c621e",
   "metadata": {},
   "outputs": [],
   "source": [
    "stats_df = stats_df[~stats_df.apply(lambda row: row.astype(str).str.contains('items', case=True, na=False).any(), axis=1)]"
   ]
  },
  {
   "cell_type": "code",
   "execution_count": 107,
   "id": "9c26b5aa-5462-430d-96a3-997ae37d64ef",
   "metadata": {},
   "outputs": [],
   "source": [
    "stats_df.to_csv('stats.csv', index=False)"
   ]
  },
  {
   "cell_type": "code",
   "execution_count": null,
   "id": "8c479374-c741-46c6-ae3d-cd60d57f8e30",
   "metadata": {},
   "outputs": [],
   "source": []
  }
 ],
 "metadata": {
  "kernelspec": {
   "display_name": "Python 3 (ipykernel)",
   "language": "python",
   "name": "python3"
  },
  "language_info": {
   "codemirror_mode": {
    "name": "ipython",
    "version": 3
   },
   "file_extension": ".py",
   "mimetype": "text/x-python",
   "name": "python",
   "nbconvert_exporter": "python",
   "pygments_lexer": "ipython3",
   "version": "3.12.4"
  }
 },
 "nbformat": 4,
 "nbformat_minor": 5
}
